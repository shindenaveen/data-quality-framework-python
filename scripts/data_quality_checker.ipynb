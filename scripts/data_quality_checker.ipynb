{
 "cells": [
  {
   "cell_type": "code",
   "execution_count": 1,
   "id": "fc0c68a7",
   "metadata": {},
   "outputs": [
    {
     "name": "stdout",
     "output_type": "stream",
     "text": [
      "missing_values: {'EmployeeID': 0, 'Name': 0, 'Age': 2, 'Department': 1, 'Salary': 2, 'Email': 1}\n",
      "invalid_emails_count: 4\n",
      "invalid_salaries_count: 3\n",
      "department_missing: 1\n"
     ]
    }
   ],
   "source": [
    "import pandas as pd\n",
    "import numpy as np\n",
    "import re\n",
    "\n",
    "# Load data\n",
    "df = pd.read_csv('employees_sample.csv')\n",
    "\n",
    "# Initialize report dictionary\n",
    "report = {}\n",
    "\n",
    "# 1. Missing Values Report\n",
    "missing = df.isnull().sum()\n",
    "report['missing_values'] = missing.to_dict()\n",
    "\n",
    "# 2. Invalid Email Report\n",
    "def valid_email(email):\n",
    "    pattern = r'^[A-Za-z0-9._%+-]+@[A-Za-z0-9.-]+\\.[A-Za-z]{2,}$'\n",
    "    return bool(re.match(pattern, str(email)))\n",
    "\n",
    "invalid_emails = df['Email'].apply(lambda x: not valid_email(x) if pd.notnull(x) else False)\n",
    "report['invalid_emails_count'] = int(invalid_emails.sum())\n",
    "\n",
    "# 3. Negative/zero/NaN Salaries\n",
    "salary_issues = df['Salary'].apply(lambda x: (not isinstance(x, float) and not isinstance(x, int)) or (pd.isnull(x)) or (float(x) <= 0 if not pd.isnull(x) else False))\n",
    "report['invalid_salaries_count'] = int(salary_issues.sum())\n",
    "\n",
    "# 4. Departments - Missing\n",
    "dept_missing = df['Department'].isnull().sum()\n",
    "report['department_missing'] = int(dept_missing)\n",
    "\n",
    "# Save issues rows\n",
    "issues_rows = df[invalid_emails | salary_issues | df['Department'].isnull() | df['Age'].isnull()]\n",
    "issues_rows.to_csv('data_quality_report.csv', index=False)\n",
    "\n",
    "# Print Short Report\n",
    "for key, value in report.items():\n",
    "    print(f\"{key}: {value}\")\n"
   ]
  },
  {
   "cell_type": "code",
   "execution_count": null,
   "id": "9245323f",
   "metadata": {},
   "outputs": [],
   "source": []
  }
 ],
 "metadata": {
  "kernelspec": {
   "display_name": "Python 3 (ipykernel)",
   "language": "python",
   "name": "python3"
  },
  "language_info": {
   "codemirror_mode": {
    "name": "ipython",
    "version": 3
   },
   "file_extension": ".py",
   "mimetype": "text/x-python",
   "name": "python",
   "nbconvert_exporter": "python",
   "pygments_lexer": "ipython3",
   "version": "3.8.0"
  }
 },
 "nbformat": 4,
 "nbformat_minor": 5
}
